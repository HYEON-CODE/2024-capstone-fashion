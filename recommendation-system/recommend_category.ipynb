{
 "cells": [
  {
   "cell_type": "code",
   "execution_count": 15,
   "id": "ce2f4ad0",
   "metadata": {
    "ExecuteTime": {
     "end_time": "2024-03-30T11:47:47.911277Z",
     "start_time": "2024-03-30T11:47:47.906721Z"
    }
   },
   "outputs": [
    {
     "name": "stdout",
     "output_type": "stream",
     "text": [
      "[[2 4 0]]\n"
     ]
    }
   ],
   "source": [
    "import numpy as np\n",
    "import joblib\n",
    "\n",
    "# 추천 함수 정의\n",
    "def category_recommend(user_data):\n",
    "    # 저장된 모델 로드\n",
    "    knn_category_model = joblib.load('knn_category_model.pkl')\n",
    "\n",
    "    # 데이터 준비(train의 데이터와 꼭 일치할 필요는 없음)\n",
    "    # 데이터는 12개의 카테고리에 대한 사용자의 선호도를 서버에서 받아와서 준비\n",
    "    # 스프링에서 데이터를 받아올 때 나이와 성별 등의 조건을 붙이고 비슷한 조건의 사람들끼리 모아서 계산\n",
    "    user_item_matrix = np.array([\n",
    "        [1, 0, 1, 0, 0],\n",
    "        [0, 1, 1, 0, 0],\n",
    "        [1, 1, 0, 1, 0],\n",
    "        [0, 0, 0, 1, 1],\n",
    "        [1, 1, 0, 0, 1]\n",
    "    ])\n",
    "\n",
    "    # 입력 데이터를 이용하여 가장 유사한 이웃들을 찾음\n",
    "    distances, indices = knn_category_model.kneighbors([user_data])\n",
    "    \n",
    "    return indices\n",
    "\n",
    "# 예시: 추천을 받고자 하는 사용자의 데이터\n",
    "user_data = [1, 1, 0, 0, 0]\n",
    "\n",
    "#유사한 카테고리 취향을 가진 사람들(K의 수만큼 반환)\n",
    "similar_people = category_recommend(user_data)\n",
    "\n",
    "print(similar_people)\n",
    "#이후 스프링에서 similar_people을 검색 -> 이 사람들의 행적을 분석(같은 카테고리의 취향을 가졌다면 비슷한 게시물을 볼 것이기 떄문)\n",
    "# 이 추천으로도 보여주고 롱테일 문제를 해결하기 위해 일부 게시물은 랜덤으로 보여줄 수도 있음"
   ]
  },
  {
   "cell_type": "code",
   "execution_count": null,
   "id": "6a333f5e",
   "metadata": {},
   "outputs": [],
   "source": []
  }
 ],
 "metadata": {
  "kernelspec": {
   "display_name": "Python 3 (ipykernel)",
   "language": "python",
   "name": "python3"
  },
  "language_info": {
   "codemirror_mode": {
    "name": "ipython",
    "version": 3
   },
   "file_extension": ".py",
   "mimetype": "text/x-python",
   "name": "python",
   "nbconvert_exporter": "python",
   "pygments_lexer": "ipython3",
   "version": "3.9.13"
  }
 },
 "nbformat": 4,
 "nbformat_minor": 5
}
