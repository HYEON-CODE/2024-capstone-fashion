{
 "cells": [
  {
   "cell_type": "code",
   "execution_count": 50,
   "id": "ce2f4ad0",
   "metadata": {},
   "outputs": [
    {
     "name": "stdout",
     "output_type": "stream",
     "text": [
      "[[0.1339746  0.22540333 0.68722838]]\n",
      "[[2 0 4]]\n"
     ]
    }
   ],
   "source": [
    "import numpy as np\n",
    "import joblib\n",
    "\n",
    "# 추천 함수 정의\n",
    "def recommend(user_data):\n",
    "    # 저장된 모델 로드\n",
    "    knn_model = joblib.load('knn_model.pkl')\n",
    "\n",
    "    # 데이터 준비(train의 데이터와 꼭 일치할 필요는 없음)\n",
    "    user_item_matrix = np.array([\n",
    "        [1, 0, 1, 0, 0],\n",
    "        [0, 1, 1, 0, 0],\n",
    "        [1, 1, 0, 1, 0],\n",
    "        [0, 0, 0, 1, 1],\n",
    "        [1, 1, 0, 0, 1]\n",
    "    ])\n",
    "\n",
    "    # 입력 데이터를 이용하여 가장 유사한 이웃들을 찾음\n",
    "    distances, indices = knn_model.kneighbors([user_data])\n",
    "    \n",
    "    print(distances)\n",
    "    print(indices)\n",
    "\n",
    "# 예시: 추천을 받고자 하는 사용자의 데이터\n",
    "user_data = [1, 0, 0, 1, 0]\n",
    "\n",
    "recommend(user_data)"
   ]
  },
  {
   "cell_type": "code",
   "execution_count": null,
   "id": "6a333f5e",
   "metadata": {},
   "outputs": [],
   "source": []
  }
 ],
 "metadata": {
  "kernelspec": {
   "display_name": "Python 3 (ipykernel)",
   "language": "python",
   "name": "python3"
  },
  "language_info": {
   "codemirror_mode": {
    "name": "ipython",
    "version": 3
   },
   "file_extension": ".py",
   "mimetype": "text/x-python",
   "name": "python",
   "nbconvert_exporter": "python",
   "pygments_lexer": "ipython3",
   "version": "3.9.13"
  }
 },
 "nbformat": 4,
 "nbformat_minor": 5
}
