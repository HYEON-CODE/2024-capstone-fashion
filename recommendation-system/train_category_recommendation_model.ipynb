{
 "cells": [
  {
   "cell_type": "code",
   "execution_count": 1,
   "id": "18160b87",
   "metadata": {
    "ExecuteTime": {
     "end_time": "2024-03-30T10:46:33.680900Z",
     "start_time": "2024-03-30T10:46:33.047791Z"
    }
   },
   "outputs": [
    {
     "data": {
      "text/plain": "['knn_category_model.pkl']"
     },
     "execution_count": 1,
     "metadata": {},
     "output_type": "execute_result"
    }
   ],
   "source": [
    "import numpy as np\n",
    "from sklearn.neighbors import NearestNeighbors\n",
    "import joblib\n",
    "\n",
    "# 데이터 준비\n",
    "# 데이터는 12개의 카테고리에 대한 사용자의 선호도를 서버에서 받아와서 준비\n",
    "user_item_matrix = np.array([\n",
    "    [1, 0, 1, 0, 0],\n",
    "    [0, 1, 1, 0, 0],\n",
    "    [1, 1, 0, 1, 0],\n",
    "    [0, 0, 0, 1, 1],\n",
    "    [1, 1, 0, 0, 1]\n",
    "])\n",
    "\n",
    "# 모델 학습\n",
    "k = 3 #비슷한 사람을 몇명 추출할 것인가\n",
    "knn_model = NearestNeighbors(n_neighbors=k, metric='cosine')\n",
    "knn_model.fit(user_item_matrix)\n",
    "\n",
    "# 모델 저장\n",
    "joblib.dump(knn_model, 'knn_category_model.pkl')\n"
   ]
  },
  {
   "cell_type": "code",
   "execution_count": null,
   "id": "da8f6233",
   "metadata": {},
   "outputs": [],
   "source": []
  }
 ],
 "metadata": {
  "kernelspec": {
   "display_name": "Python 3 (ipykernel)",
   "language": "python",
   "name": "python3"
  },
  "language_info": {
   "codemirror_mode": {
    "name": "ipython",
    "version": 3
   },
   "file_extension": ".py",
   "mimetype": "text/x-python",
   "name": "python",
   "nbconvert_exporter": "python",
   "pygments_lexer": "ipython3",
   "version": "3.9.13"
  }
 },
 "nbformat": 4,
 "nbformat_minor": 5
}
