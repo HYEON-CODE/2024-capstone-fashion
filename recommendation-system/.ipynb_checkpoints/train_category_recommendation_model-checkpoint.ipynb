{
 "cells": [
  {
   "cell_type": "code",
   "execution_count": 1,
   "id": "18160b87",
   "metadata": {
    "ExecuteTime": {
     "end_time": "2024-03-30T10:46:33.680900Z",
     "start_time": "2024-03-30T10:46:33.047791Z"
    }
   },
   "outputs": [
    {
     "data": {
      "text/plain": [
       "['knn_category_model.pkl']"
      ]
     },
     "execution_count": 1,
     "metadata": {},
     "output_type": "execute_result"
    }
   ],
   "source": [
    "import numpy as np\n",
    "from sklearn.neighbors import NearestNeighbors\n",
    "import joblib\n",
    "\n",
    "import os\n",
    "import re\n",
    "from datetime import datetime\n",
    "\n",
    "# 데이터 디렉토리\n",
    "data_dir = '/home/32190165/server'\n",
    "\n",
    "# 파일 이름에서 날짜 추출\n",
    "def extract_date(filename):\n",
    "    date_pattern = r\"user_category_scores_(\\d{4}-\\d{2}-\\d{2}).csv\"\n",
    "    match = re.search(date_pattern, filename)\n",
    "    if match:\n",
    "        return datetime.strptime(match.group(1), \"%Y-%m-%d\")\n",
    "    else:\n",
    "        return None\n",
    "\n",
    "# 가장 최신 파일 선택\n",
    "def find_latest_file(directory):\n",
    "    files = os.listdir(directory)\n",
    "    csv_files = [file for file in files if file.endswith(\".csv\")]\n",
    "    dated_files = [(file, extract_date(file)) for file in csv_files if extract_date(file)]\n",
    "    latest_file = max(dated_files, key=lambda x: x[1])[0] if dated_files else None\n",
    "    return latest_file\n",
    "\n",
    "# 가장 최신의 파일 찾기\n",
    "latest_file = find_latest_file(data_dir)\n",
    "\n",
    "if latest_file:\n",
    "    print(\"가장 최신의 파일:\", latest_file)\n",
    "else:\n",
    "    print(\"CSV 파일이 존재하지 않습니다.\")\n",
    "\n",
    "user_item_matrix = np.array([\n",
    "    [1, 0, 1, 0, 0],\n",
    "    [0, 1, 1, 0, 0],\n",
    "    [1, 1, 0, 1, 0],\n",
    "    [0, 0, 0, 1, 1],\n",
    "    [1, 1, 0, 0, 1]\n",
    "])\n",
    "\n",
    "# 모델 학습\n",
    "k = 3 #비슷한 사람을 몇명 추출할 것인가\n",
    "knn_model = NearestNeighbors(n_neighbors=k, metric='cosine')\n",
    "knn_model.fit(user_item_matrix)\n",
    "\n",
    "# 모델 저장\n",
    "joblib.dump(knn_model, 'knn_category_model.pkl')\n"
   ]
  },
  {
   "cell_type": "code",
   "execution_count": null,
   "id": "da8f6233",
   "metadata": {},
   "outputs": [],
   "source": []
  }
 ],
 "metadata": {
  "kernelspec": {
   "display_name": "Python 3 (ipykernel)",
   "language": "python",
   "name": "python3"
  },
  "language_info": {
   "codemirror_mode": {
    "name": "ipython",
    "version": 3
   },
   "file_extension": ".py",
   "mimetype": "text/x-python",
   "name": "python",
   "nbconvert_exporter": "python",
   "pygments_lexer": "ipython3",
   "version": "3.9.13"
  }
 },
 "nbformat": 4,
 "nbformat_minor": 5
}
